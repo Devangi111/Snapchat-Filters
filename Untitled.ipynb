{
 "cells": [
  {
   "cell_type": "code",
   "execution_count": 2,
   "id": "7110d845",
   "metadata": {},
   "outputs": [],
   "source": [
    "import cv2\n",
    "import numpy as np\n",
    "import glob\n",
    "import os\n",
    "import dlib\n",
    "import argparse"
   ]
  },
  {
   "cell_type": "code",
   "execution_count": 3,
   "id": "b02bcc4f",
   "metadata": {},
   "outputs": [],
   "source": [
    "imgMustache = cv2.imread(\"mustache.png\", -1)\n",
    "orig_mask = imgMustache[:,:,3]\n",
    "orig_mask_inv = cv2.bitwise_not(orig_mask)\n",
    "imgMustache = imgMustache[:,:,0:3]\n",
    "origMustacheHeight, origMustacheWidth = imgMustache.shape[:2]"
   ]
  },
  {
   "cell_type": "code",
   "execution_count": 4,
   "id": "d469c535",
   "metadata": {},
   "outputs": [],
   "source": [
    "imgGlass = cv2.imread(\"glasses.png\", -1)\n",
    "orig_mask_g = imgGlass[:,:,3]\n",
    "orig_mask_inv_g = cv2.bitwise_not(orig_mask_g)\n",
    "imgGlass = imgGlass[:,:,0:3]\n",
    "origGlassHeight, origGlassWidth = imgGlass.shape[:2]"
   ]
  },
  {
   "cell_type": "code",
   "execution_count": 5,
   "id": "0fa62db2",
   "metadata": {},
   "outputs": [],
   "source": [
    "predictor_path = \"shape_predictor_68_face_landmarks.dat\"\n",
    "face_rec_model_path = \"dlib_face_recognition_resnet_model_v1.dat\""
   ]
  },
  {
   "cell_type": "code",
   "execution_count": 6,
   "id": "39f6c727",
   "metadata": {},
   "outputs": [],
   "source": [
    "cnn_face_detector = dlib.cnn_face_detection_model_v1(\"mmod_human_face_detector.dat\")\n",
    "detector = dlib.get_frontal_face_detector()\n",
    "predictor = dlib.shape_predictor(predictor_path)"
   ]
  },
  {
   "cell_type": "code",
   "execution_count": 10,
   "id": "d28e8c93",
   "metadata": {},
   "outputs": [],
   "source": [
    "frame=cv2.imread(\"srk.jpg\")"
   ]
  },
  {
   "cell_type": "code",
   "execution_count": 11,
   "id": "030dc529",
   "metadata": {},
   "outputs": [],
   "source": [
    "dets = cnn_face_detector(frame, 1)\n",
    "\n",
    "for k, d in enumerate(dets):\n",
    "    shape = predictor(frame, d.rect)\n",
    "\n",
    "    mustacheWidth = abs(3 * (shape.part(31).x - shape.part(35).x))\n",
    "    mustacheHeight = int(mustacheWidth * origMustacheHeight / origMustacheWidth) - 10\n",
    "    mustache = cv2.resize(imgMustache, (mustacheWidth,mustacheHeight), interpolation = cv2.INTER_AREA)\n",
    "    mask = cv2.resize(orig_mask, (mustacheWidth,mustacheHeight), interpolation = cv2.INTER_AREA)\n",
    "    mask_inv = cv2.resize(orig_mask_inv, (mustacheWidth,mustacheHeight), interpolation = cv2.INTER_AREA)\n",
    "    y1 = int(shape.part(33).y - (mustacheHeight/2)) + 10\n",
    "    y2 = int(y1 + mustacheHeight)\n",
    "    x1 = int(shape.part(51).x - (mustacheWidth/2))\n",
    "    x2 = int(x1 + mustacheWidth)\n",
    "    roi = frame[y1:y2, x1:x2]\n",
    "    roi_bg = cv2.bitwise_and(roi,roi,mask = mask_inv)\n",
    "    roi_fg = cv2.bitwise_and(mustache,mustache,mask = mask)\n",
    "    frame[y1:y2, x1:x2] = cv2.add(roi_bg, roi_fg)\n",
    "\n",
    "    glassWidth = abs(shape.part(16).x - shape.part(1).x)\n",
    "    glassHeight = int(glassWidth * origGlassHeight / origGlassWidth)\n",
    "    glass = cv2.resize(imgGlass, (glassWidth,glassHeight), interpolation = cv2.INTER_AREA)\n",
    "    mask = cv2.resize(orig_mask_g, (glassWidth,glassHeight), interpolation = cv2.INTER_AREA)\n",
    "    mask_inv = cv2.resize(orig_mask_inv_g, (glassWidth,glassHeight), interpolation = cv2.INTER_AREA)\n",
    "    y1 = int(shape.part(24).y)\n",
    "    y2 = int(y1 + glassHeight)\n",
    "    x1 = int(shape.part(27).x - (glassWidth/2))\n",
    "    x2 = int(x1 + glassWidth)\n",
    "    roi1 = frame[y1:y2, x1:x2]\n",
    "    roi_bg = cv2.bitwise_and(roi1,roi1,mask = mask_inv)\n",
    "    roi_fg = cv2.bitwise_and(glass,glass,mask = mask)\n",
    "    frame[y1:y2, x1:x2] = cv2.add(roi_bg, roi_fg)"
   ]
  },
  {
   "cell_type": "code",
   "execution_count": 12,
   "id": "6f986a09",
   "metadata": {},
   "outputs": [],
   "source": [
    "cv2.imshow(\"SRK with filters\", frame)\n",
    "cv2.waitKey(0)\n",
    "cv2.destroyAllWindows()"
   ]
  },
  {
   "cell_type": "code",
   "execution_count": 6,
   "id": "8acdda18",
   "metadata": {},
   "outputs": [],
   "source": [
    "fourcc = cv2.VideoWriter_fourcc(*'MP4V')"
   ]
  },
  {
   "cell_type": "code",
   "execution_count": 7,
   "id": "419972b8",
   "metadata": {},
   "outputs": [],
   "source": [
    "def main(file, output, frame_rate=30):    \n",
    "    if (file == \"camera\"):\n",
    "        video_capture = cv2.VideoCapture(0)\n",
    "    else:\n",
    "        video_capture = cv2.VideoCapture(file)\n",
    "    ret, frame = video_capture.read()\n",
    "    if (output != None):\n",
    "        out = cv2.VideoWriter(output,fourcc, frame_rate, (frame.shape[1], frame.shape[0]))\n",
    "\n",
    "    while ret:\n",
    "        dets = cnn_face_detector(frame, 1)\n",
    "        print(\"detailsss\",dets)\n",
    "        for k, d in enumerate(dets):\n",
    "            shape = predictor(frame, d.rect)\n",
    "\n",
    "            mustacheWidth = abs(3 * (shape.part(31).x - shape.part(35).x))\n",
    "            mustacheHeight = int(mustacheWidth * origMustacheHeight / origMustacheWidth) - 10\n",
    "            mustache = cv2.resize(imgMustache, (mustacheWidth,mustacheHeight), interpolation = cv2.INTER_AREA)\n",
    "            mask = cv2.resize(orig_mask, (mustacheWidth,mustacheHeight), interpolation = cv2.INTER_AREA)\n",
    "            mask_inv = cv2.resize(orig_mask_inv, (mustacheWidth,mustacheHeight), interpolation = cv2.INTER_AREA)\n",
    "            y1 = int(shape.part(33).y - (mustacheHeight/2)) + 10\n",
    "            y2 = int(y1 + mustacheHeight)\n",
    "            x1 = int(shape.part(51).x - (mustacheWidth/2))\n",
    "            x2 = int(x1 + mustacheWidth)\n",
    "            roi = frame[y1:y2, x1:x2]\n",
    "            roi_bg = cv2.bitwise_and(roi,roi,mask = mask_inv)\n",
    "            roi_fg = cv2.bitwise_and(mustache,mustache,mask = mask)\n",
    "            frame[y1:y2, x1:x2] = cv2.add(roi_bg, roi_fg)\n",
    "\n",
    "            glassWidth = abs(shape.part(16).x - shape.part(1).x)\n",
    "            glassHeight = int(glassWidth * origGlassHeight / origGlassWidth)\n",
    "            glass = cv2.resize(imgGlass, (glassWidth,glassHeight), interpolation = cv2.INTER_AREA)\n",
    "            mask = cv2.resize(orig_mask_g, (glassWidth,glassHeight), interpolation = cv2.INTER_AREA)\n",
    "            mask_inv = cv2.resize(orig_mask_inv_g, (glassWidth,glassHeight), interpolation = cv2.INTER_AREA)\n",
    "            y1 = int(shape.part(24).y)\n",
    "            y2 = int(y1 + glassHeight)\n",
    "            x1 = int(shape.part(27).x - (glassWidth/2))\n",
    "            x2 = int(x1 + glassWidth)\n",
    "            roi1 = frame[y1:y2, x1:x2]\n",
    "            roi_bg = cv2.bitwise_and(roi1,roi1,mask = mask_inv)\n",
    "            roi_fg = cv2.bitwise_and(glass,glass,mask = mask)\n",
    "            frame[y1:y2, x1:x2] = cv2.add(roi_bg, roi_fg)\n",
    "            #'''\n",
    "        if (output != None):\n",
    "            out.write(frame)\n",
    "        else:\n",
    "            cv2.imshow(\"\", frame)\n",
    "        ret, frame = video_capture.read()\n",
    "        if cv2.waitKey(1) & 0xFF == ord('q'):\n",
    "            break\n",
    "        # Release handle to the webcam\n",
    "    if (output != None):\n",
    "        out.release()\n",
    "    video_capture.release()\n",
    "    cv2.destroyAllWindows()"
   ]
  },
  {
   "cell_type": "code",
   "execution_count": null,
   "id": "6d985caa",
   "metadata": {},
   "outputs": [],
   "source": [
    "file=\"camera\"\n",
    "output = None\n",
    "frame_rate = 30\n",
    "main(file,output, frame_rate)"
   ]
  },
  {
   "cell_type": "code",
   "execution_count": 17,
   "id": "7112c82d",
   "metadata": {},
   "outputs": [],
   "source": [
    "if __name__ == '__main__':\n",
    "    parser = argparse.ArgumentParser()\n",
    "    parser.add_argument(\"-f\", \"--file\", type=str, help=\"give video file for filter write camera if you want to use webcam\", required=True)\n",
    "    parser.add_argument(\"-o\", \"--output\", type=str, help=\"give output name for video in .mp4 format\")\n",
    "    parser.add_argument(\"-fr\", \"--frame_rate\", type=str, help=\"give video frame\", default=30)\n",
    "    args = parser.parse_args()\n",
    "\n",
    "    "
   ]
  },
  {
   "cell_type": "code",
   "execution_count": 1,
   "id": "2d66a027",
   "metadata": {},
   "outputs": [],
   "source": [
    "\n",
    "# import the opencv library\n",
    "import cv2\n",
    "  \n",
    "  \n",
    "# define a video capture object\n",
    "vid = cv2.VideoCapture(0)\n",
    "  \n",
    "while(True):\n",
    "      \n",
    "    # Capture the video frame\n",
    "    # by frame\n",
    "    ret, frame = vid.read()\n",
    "  \n",
    "    # Display the resulting frame\n",
    "    cv2.imshow('frame', frame)\n",
    "      \n",
    "    # the 'q' button is set as the\n",
    "    # quitting button you may use any\n",
    "    # desired button of your choice\n",
    "    if cv2.waitKey(1) & 0xFF == ord('q'):\n",
    "        break\n",
    "  \n",
    "# After the loop release the cap object\n",
    "vid.release()\n",
    "# Destroy all the windows\n",
    "cv2.destroyAllWindows()"
   ]
  }
 ],
 "metadata": {
  "kernelspec": {
   "display_name": "Python 3",
   "language": "python",
   "name": "python3"
  },
  "language_info": {
   "codemirror_mode": {
    "name": "ipython",
    "version": 3
   },
   "file_extension": ".py",
   "mimetype": "text/x-python",
   "name": "python",
   "nbconvert_exporter": "python",
   "pygments_lexer": "ipython3",
   "version": "3.6.10"
  }
 },
 "nbformat": 4,
 "nbformat_minor": 5
}
